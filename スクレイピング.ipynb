{
  "nbformat": 4,
  "nbformat_minor": 0,
  "metadata": {
    "colab": {
      "provenance": [],
      "authorship_tag": "ABX9TyPDo05I00dfNN87xUGXvOcN",
      "include_colab_link": true
    },
    "kernelspec": {
      "name": "python3",
      "display_name": "Python 3"
    },
    "language_info": {
      "name": "python"
    }
  },
  "cells": [
    {
      "cell_type": "markdown",
      "metadata": {
        "id": "view-in-github",
        "colab_type": "text"
      },
      "source": [
        "<a href=\"https://colab.research.google.com/github/Kato-Keisuke/Make_Data/blob/main/%E3%82%B9%E3%82%AF%E3%83%AC%E3%82%A4%E3%83%94%E3%83%B3%E3%82%B0.ipynb\" target=\"_parent\"><img src=\"https://colab.research.google.com/assets/colab-badge.svg\" alt=\"Open In Colab\"/></a>"
      ]
    },
    {
      "cell_type": "markdown",
      "source": [
        "# 参考"
      ],
      "metadata": {
        "id": "TcbZGLruFXNT"
      }
    },
    {
      "cell_type": "code",
      "source": [
        "from bs4.element import SoupStrainer\n",
        "#歌ネットのurlをbase_urlに入力\n",
        "base_url = 'https://www.uta-net.com' #ベースurl\n",
        "\n",
        "columns_names=['歌手名','曲名','歌詞','歌詞リンク']\n",
        "list_df = pd.DataFrame(columns=['歌手名','曲名','歌詞','歌詞リンク'])\n",
        "\n",
        "#取ってきたい数\n",
        "for i in range(2):\n",
        "  url = 'https://www.uta-net.com/artist/' #アーティスト別のベースurl\n",
        "  th = \"/\"\n",
        "\n",
        "  #例としてはhttps://www.uta-net.com/artist/1000/となる\n",
        "  url_random = random.randint(1, 35397)\n",
        "  url = url + str(url_random) + th\n",
        "  print(url)\n",
        "\n",
        "  #取得したUserAgent情報を入力（）\n",
        "  user_agent = 'Mozilla/5.0 (Windows NT 10.0; Win64; x64) AppleWebKit/537.36 (KHTML, like Gecko) Chrome/114.0.0.0 Safari/537.36 Edg/114.0.1823.43'\n",
        "\n",
        "  header = {'User-Agent': user_agent}\n",
        "\n",
        "  response = requests.get(url,headers=header)\n",
        "\n",
        "  soup = BeautifulSoup(response.text, 'lxml')\n",
        "\n",
        "  #引数として、class_='sp-w-100'を与えないといけないらしい\n",
        "  links = soup.find_all('td', class_='sp-w-100')\n",
        "\n",
        "  #歌詞情報を取得\n",
        "  for link in links:\n",
        "    data = []\n",
        "    #曲のリンク\n",
        "    song_link = base_url + (link.a.get('href'))\n",
        "\n",
        "    response = requests.get(song_link)\n",
        "\n",
        "    soup = BeautifulSoup(response.text, 'lxml')\n",
        "\n",
        "    #歌手名\n",
        "    song_artist = soup.find('span', itemprop=\"byArtist name\")\n",
        "    song_artist = song_artist.text\n",
        "\n",
        "    #曲名\n",
        "    song_name = soup.find('h2').text\n",
        "\n",
        "    #歌詞\n",
        "    song_kashi = soup.find('div', id=\"kashi_area\")\n",
        "    song_kashi = song_kashi.text\n",
        "\n",
        "    #データの格納\n",
        "    data.append([song_artist, song_name, song_kashi, song_link])\n",
        "\n",
        "    #dataに正しく格納されているか確認\n",
        "    print(data)\n",
        "\n",
        "    time.sleep(1)\n",
        "\n",
        "    tmp_se = pd.DataFrame(data, columns=columns_names)\n",
        "\n",
        "    list_df = list_df.append(tmp_se)\n",
        "\n",
        "    #csvファイルに出力\n",
        "    list_df.to_csv('{}_{}.txt'.format(i, song_artist), mode = 'w', encoding = 'utf-8')"
      ],
      "metadata": {
        "id": "R2qgaQ1SN7y5"
      },
      "execution_count": null,
      "outputs": []
    },
    {
      "cell_type": "code",
      "source": [
        "from bs4.element import SoupStrainer\n",
        "#歌ネットのurlをbase_urlに入力\n",
        "base_url = 'https://www.uta-net.com' #ベースurl\n",
        "\n",
        "columns_names=['歌手名','曲名','歌詞','歌詞リンク']\n",
        "list_df = pd.DataFrame(columns=['歌手名','曲名','歌詞','歌詞リンク'])\n",
        "\n",
        "\n",
        "\n",
        "data = []\n",
        "#曲のリンク\n",
        "song_link = 'https://www.uta-net.com/song/124768/'\n",
        "\n",
        "response = requests.get(song_link)\n",
        "\n",
        "soup = BeautifulSoup(response.text, 'lxml')\n",
        "\n",
        "#歌手名\n",
        "song_artist = soup.find('span', itemprop=\"byArtist name\")\n",
        "song_artist = song_artist.text\n",
        "\n",
        "#曲名\n",
        "song_name = soup.find('h2').text\n",
        "\n",
        "#歌詞\n",
        "song_kashi = soup.find('div', id=\"kashi_area\")\n",
        "song_kashi = song_kashi.text\n",
        "\n",
        "#データの格納\n",
        "data.append([song_artist, song_name, song_kashi, song_link])\n",
        "\n",
        "#dataに正しく格納されているか確認\n",
        "print(data)\n"
      ],
      "metadata": {
        "id": "N7JKfE7XkgEa"
      },
      "execution_count": null,
      "outputs": []
    },
    {
      "cell_type": "code",
      "source": [
        "columns_names=['題名','本文','リンク']\n",
        "list_df = pd.DataFrame(columns=['題名','本文','リンク'])\n",
        "\n",
        "link = 'https://www.city.tokorozawa.saitama.jp/kurashi/shiminsanka/senkyo/mayor/kaihyo_mayor.html'\n",
        "\n",
        "\n",
        "data = []\n",
        "\n",
        "response = requests.get(link)\n",
        "\n",
        "soup = BeautifulSoup(response.content, 'html.parser')\n",
        "\n",
        "#題名\n",
        "head = soup.find('h1').text\n",
        "\n",
        "#本文\n",
        "main_text = soup.find('div', id=\"main\")\n",
        "main_text = main_text.text\n",
        "\n",
        "#データの格納\n",
        "data.append([head, main_text, link])\n",
        "\n",
        "#dataに正しく格納されているか確認\n",
        "print(data)\n",
        "\n"
      ],
      "metadata": {
        "id": "7B-lAT5KbWtL"
      },
      "execution_count": null,
      "outputs": []
    },
    {
      "cell_type": "markdown",
      "source": [
        "# スクレイピング開始\n"
      ],
      "metadata": {
        "id": "M8HEfNIAI4Te"
      }
    },
    {
      "cell_type": "code",
      "execution_count": 1,
      "metadata": {
        "id": "A9t7T6OdNvL9"
      },
      "outputs": [],
      "source": [
        "import requests\n",
        "from bs4 import BeautifulSoup\n",
        "import pandas as pd\n",
        "import time\n",
        "import random\n",
        "from google.colab import files\n",
        ""
      ]
    },
    {
      "cell_type": "code",
      "source": [
        "def SK(link: str):\n",
        "\n",
        "  columns_names=['題名','本文','リンク']\n",
        "  list_df = pd.DataFrame(columns=['題名','本文','リンク'])\n",
        "\n",
        "  link = link.strip('\\n')\n",
        "  data = []\n",
        "\n",
        "  response = requests.get(link)\n",
        "\n",
        "  soup = BeautifulSoup(response.content, 'html.parser')\n",
        "\n",
        "  #題名\n",
        "  head = soup.find('h1').text\n",
        "\n",
        "  #本文\n",
        "  main_text = soup.find('div', id=\"main\")\n",
        "  main_text = main_text.text\n",
        "\n",
        "  #データの格納\n",
        "  data.append([head, main_text, link])\n",
        "\n",
        "  #dataに正しく格納されているか確認\n",
        "  print(data)\n",
        "\n",
        "\n",
        "  tmp_se = pd.DataFrame(data, columns=columns_names)\n",
        "\n",
        "  list_df = list_df.append(tmp_se)\n",
        "\n",
        "  #csvファイルに出力\n",
        "  list_df.to_csv('{}.txt'.format(head), mode = 'w', encoding = 'utf-8')"
      ],
      "metadata": {
        "id": "SklXpKw7rY3T"
      },
      "execution_count": 114,
      "outputs": []
    },
    {
      "cell_type": "code",
      "source": [
        "SK('https://www.city.tokorozawa.saitama.jp/kosodatekyouiku/syougaijishien/matubara_skillup.html')"
      ],
      "metadata": {
        "id": "-52yK7Odsobe"
      },
      "execution_count": null,
      "outputs": []
    },
    {
      "cell_type": "code",
      "source": [
        "f = open('url_list_tokorozawa.txt','r')\n",
        "c = 0\n",
        "for i in f:\n",
        "  try:\n",
        "    SK(i)\n",
        "  except AttributeError:\n",
        "    print('No Data')"
      ],
      "metadata": {
        "id": "EoQFEHAgqKCT"
      },
      "execution_count": null,
      "outputs": []
    },
    {
      "cell_type": "code",
      "source": [
        "def SKH(link: str):\n",
        "\n",
        "  #data = []\n",
        "  link = link.strip('\\n')\n",
        "  response = requests.get(link)\n",
        "\n",
        "  soup = BeautifulSoup(response.content, 'html.parser')\n",
        "\n",
        "  #題名\n",
        "  head = soup.find('h1').text\n",
        "\n",
        "  #データの格納\n",
        "  #data.append([head, link])\n",
        "\n",
        "\n",
        "\n",
        "  return([head, link])\n",
        "  #csvファイルに出力\n",
        "  #list_df.to_csv('{}.txt'.format(head), mode = 'w', encoding = 'utf-8')"
      ],
      "metadata": {
        "id": "QsQVbTlvq5K4"
      },
      "execution_count": 120,
      "outputs": []
    },
    {
      "cell_type": "code",
      "source": [
        "columns_names=['題名','リンク']\n",
        "list_df = pd.DataFrame(columns=['題名','リンク'])\n",
        "data = []\n",
        "\n",
        "f = open('url_list_tokorozawa2.txt','r')\n",
        "lists = []\n",
        "for i in f:\n",
        "  data.append(SKH(i))\n",
        "\n",
        "print(data)\n",
        "tmp_se = pd.DataFrame(data, columns=columns_names)\n",
        "\n",
        "list_df = list_df.append(tmp_se)\n",
        "list_df.to_csv('tokorozawa.txt', mode = 'w', encoding = 'utf-8')"
      ],
      "metadata": {
        "id": "k43bu-AUrnSL"
      },
      "execution_count": null,
      "outputs": []
    },
    {
      "cell_type": "markdown",
      "source": [
        "# スクレイピング実働　所沢~"
      ],
      "metadata": {
        "id": "s3PCufoYBfpT"
      }
    },
    {
      "cell_type": "code",
      "source": [
        "import requests\n",
        "from bs4 import BeautifulSoup\n",
        "import pandas as pd\n",
        "import time\n",
        "import random\n",
        "from google.colab import files"
      ],
      "metadata": {
        "id": "9UhagSRrBncj"
      },
      "execution_count": 2,
      "outputs": []
    },
    {
      "cell_type": "code",
      "source": [
        "def SK_t(link: str):\n",
        "\n",
        "  #data = []\n",
        "  link = link.strip('\\n')\n",
        "  response = requests.get(link)\n",
        "\n",
        "  soup = BeautifulSoup(response.content, 'html.parser')\n",
        "\n",
        "  #題名\n",
        "  head = soup.find('h1').text\n",
        "\n",
        "  #本文\n",
        "  main_text = soup.find('div', id=\"main\")\n",
        "  main_text = main_text.text\n",
        "\n",
        "  return([head,main_text,link])"
      ],
      "metadata": {
        "id": "IJ44NGU2Bmvj"
      },
      "execution_count": 3,
      "outputs": []
    },
    {
      "cell_type": "code",
      "source": [
        "columns_names=['題名','本文','リンク']\n",
        "list_df = pd.DataFrame(columns=['題名','本文','リンク'])\n",
        "data = []\n",
        "\n",
        "f = open('url_list_tokorozawa.txt','r')\n",
        "for i in f:\n",
        "  try:\n",
        "    data.append(SK_t(i))\n",
        "  except AttributeError:\n",
        "    print('Loss Data')\n",
        "\n",
        "tmp_se = pd.DataFrame(data, columns=columns_names)\n",
        "\n",
        "list_df = list_df.append(tmp_se)\n",
        "list_df.to_csv('tokorozawa.txt', mode = 'w', encoding = 'utf-8')"
      ],
      "metadata": {
        "id": "pQr82njqBnV1"
      },
      "execution_count": null,
      "outputs": []
    },
    {
      "cell_type": "markdown",
      "source": [
        "所沢　ロス3"
      ],
      "metadata": {
        "id": "HKj-hf7gJjCr"
      }
    },
    {
      "cell_type": "code",
      "source": [],
      "metadata": {
        "id": "VJ_vIGX3Fvfp"
      },
      "execution_count": null,
      "outputs": []
    },
    {
      "cell_type": "code",
      "source": [],
      "metadata": {
        "id": "_tzioYrZJiJP"
      },
      "execution_count": null,
      "outputs": []
    },
    {
      "cell_type": "markdown",
      "source": [
        "新座　府中　朝霞　川越　志木はいけそう\n"
      ],
      "metadata": {
        "id": "48aJfK9aCt0O"
      }
    },
    {
      "cell_type": "code",
      "source": [
        "#新座\n",
        "SK('https://www.city.niiza.lg.jp/soshiki/23/dvbousi-paneruten2023.html')"
      ],
      "metadata": {
        "id": "eON1vGn3C0iL"
      },
      "execution_count": null,
      "outputs": []
    },
    {
      "cell_type": "code",
      "source": [
        "#府中\n",
        "SK('https://www.city.fuchu.tokyo.jp/kurashi/gomirisaikuru/suishin/reduce_torikumi/fu-dodoraibu.html')"
      ],
      "metadata": {
        "id": "LLEg6xm2C05p"
      },
      "execution_count": null,
      "outputs": []
    },
    {
      "cell_type": "code",
      "source": [
        "#朝霞\n",
        "SK('https://www.city.asaka.lg.jp/soshiki/12/hanabikyougikaishi.html')"
      ],
      "metadata": {
        "id": "3EzQDV2zFW8x"
      },
      "execution_count": null,
      "outputs": []
    },
    {
      "cell_type": "code",
      "source": [
        "#川越\n",
        "SK('https://www.city.kawagoe.saitama.jp/jigyoshamuke/nyusatsunohiroba/denshinyusatsu/koukoku231019.html')"
      ],
      "metadata": {
        "id": "tmbXwz9SFW5i"
      },
      "execution_count": null,
      "outputs": []
    },
    {
      "cell_type": "code",
      "source": [
        "#志木\n",
        "SK('https://www.city.shiki.lg.jp/soshiki/16/12224.html')"
      ],
      "metadata": {
        "id": "E8hkwRILFWkO"
      },
      "execution_count": null,
      "outputs": []
    },
    {
      "cell_type": "code",
      "source": [
        "columns_names=['題名','本文','リンク']\n",
        "list_df = pd.DataFrame(columns=['題名','本文','リンク'])\n",
        "data = []\n",
        "\n",
        "f = open('url_list_shiki.txt','r')\n",
        "for i in f:\n",
        "  try:\n",
        "    data.append(SK_t(i))\n",
        "  except AttributeError:\n",
        "    print('Loss Data')\n",
        "\n",
        "tmp_se = pd.DataFrame(data, columns=columns_names)\n",
        "\n",
        "list_df = list_df.append(tmp_se)\n",
        "list_df.to_csv('shiki.txt', mode = 'w', encoding = 'utf-8')"
      ],
      "metadata": {
        "id": "rBZu9ZuNJQal"
      },
      "execution_count": null,
      "outputs": []
    },
    {
      "cell_type": "markdown",
      "source": [
        "los asaka 0 fuchu 9 kawagoe 8 shiki 0\n"
      ],
      "metadata": {
        "id": "BI0o9JdtJoH8"
      }
    },
    {
      "cell_type": "markdown",
      "source": [
        "# 別の対応コードを書く"
      ],
      "metadata": {
        "id": "3HJqD96p1Au9"
      }
    },
    {
      "cell_type": "code",
      "source": [
        "#立川\n",
        "def SK_2(link: str):\n",
        "\n",
        "  link = link.strip('\\n')\n",
        "  data = []\n",
        "\n",
        "  response = requests.get(link)\n",
        "\n",
        "  soup = BeautifulSoup(response.content, 'html.parser')\n",
        "\n",
        "  #題名\n",
        "  head = soup.find('h1').text\n",
        "\n",
        "  #本文\n",
        "  main_text = soup.find('div', id=\"tmp_contents\")\n",
        "  main_text = main_text.text\n",
        "\n",
        "  return([head,main_text,link])"
      ],
      "metadata": {
        "id": "CYTUAqsp1OBo"
      },
      "execution_count": 15,
      "outputs": []
    },
    {
      "cell_type": "code",
      "source": [
        "#立川\n",
        "SK_2('https://www.city.tachikawa.lg.jp/gakumu/kenko/iryo/kansensho/kansenshojoho/shiritsu.html')"
      ],
      "metadata": {
        "id": "ndi8f3zTC0yo"
      },
      "execution_count": null,
      "outputs": []
    },
    {
      "cell_type": "code",
      "source": [
        "SK_2('https://www.city.tachikawa.lg.jp/kenchikushido/kennchikushinnsakai/documents/kaigiroku184.html')"
      ],
      "metadata": {
        "id": "2zDp2c-i8mbe"
      },
      "execution_count": null,
      "outputs": []
    },
    {
      "cell_type": "code",
      "source": [
        "columns_names=['題名','本文','リンク']\n",
        "list_df = pd.DataFrame(columns=['題名','本文','リンク'])\n",
        "data = []\n",
        "\n",
        "f = open('url_list_tachikawa.txt','r')\n",
        "for i in f:\n",
        "  try:\n",
        "    data.append(SK_2(i))\n",
        "  except AttributeError:\n",
        "    print('Loss Data')\n",
        "\n",
        "tmp_se = pd.DataFrame(data, columns=columns_names)\n",
        "\n",
        "list_df = list_df.append(tmp_se)\n",
        "list_df.to_csv('tachikawa.txt', mode = 'w', encoding = 'utf-8')"
      ],
      "metadata": {
        "id": "CyZbJ0Q_1NtS"
      },
      "execution_count": null,
      "outputs": []
    },
    {
      "cell_type": "markdown",
      "source": [
        "tachikawa 0"
      ],
      "metadata": {
        "id": "t_nsg-Q-bEf4"
      }
    },
    {
      "cell_type": "code",
      "source": [
        "def SK_3(link: str):\n",
        "\n",
        "  link = link.strip('\\n')\n",
        "  data = []\n",
        "\n",
        "  response = requests.get(link)\n",
        "\n",
        "  soup = BeautifulSoup(response.content, 'html.parser')\n",
        "\n",
        "  #題名\n",
        "  head = soup.find('h1').text\n",
        "\n",
        "  #本文\n",
        "  main_text = soup.find('div', id=\"tmp_contents\")\n",
        "  main_text = main_text.text\n",
        "\n",
        "  #データの格納\n",
        "  data.append([head, main_text, link])\n",
        "\n",
        "  #dataに正しく格納されているか確認\n",
        "  print(data)\n"
      ],
      "metadata": {
        "id": "SF8tLhLB2PST"
      },
      "execution_count": null,
      "outputs": []
    },
    {
      "cell_type": "code",
      "source": [
        "#日野 よくわからん\n",
        "SK_3('https://www.city.hino.lg.jp/kosodate/ikusei/1023469/1024311/1023475.html')"
      ],
      "metadata": {
        "id": "qh1a9D9lGPDF"
      },
      "execution_count": null,
      "outputs": []
    },
    {
      "cell_type": "code",
      "source": [
        "def SK_4(link: str):\n",
        "\n",
        "  columns_names=['題名','本文','リンク']\n",
        "  list_df = pd.DataFrame(columns=['題名','本文','リンク'])\n",
        "\n",
        "  data = []\n",
        "\n",
        "  response = requests.get(link)\n",
        "\n",
        "  soup = BeautifulSoup(response.content, 'html.parser')\n",
        "\n",
        "  #題名\n",
        "  #head = soup.find('div', id=\"pbBlock347653\")\n",
        "  #head = head.text\n",
        "  head = soup.find('h1').text\n",
        "  #本文\n",
        "  main_text = soup.find('div', id=\"pbBlock347654\")\n",
        "  main_text = main_text.text\n",
        "\n",
        "  #データの格納\n",
        "  data.append([head, main_text, link])\n",
        "\n",
        "  #dataに正しく格納されているか確認\n",
        "  print(data)\n"
      ],
      "metadata": {
        "id": "4x-By6Fb36oc"
      },
      "execution_count": 34,
      "outputs": []
    },
    {
      "cell_type": "code",
      "source": [
        "#和光 めんどいから捨てかな\n",
        "SK_4('https://www.city.wako.lg.jp/home/shisei/shigikai/gikai_shisatsu/_9897.html')"
      ],
      "metadata": {
        "id": "i4d5sRf2FWgv"
      },
      "execution_count": null,
      "outputs": []
    },
    {
      "cell_type": "code",
      "source": [
        "SK_4('https://www.city.wako.lg.jp/home/fukushi/kodomo/nursery_center/asoboukai.html')"
      ],
      "metadata": {
        "id": "qVKXrMxH8gmt"
      },
      "execution_count": null,
      "outputs": []
    },
    {
      "cell_type": "code",
      "source": [
        "#国立\n",
        "def SK_5(link: str):\n",
        "\n",
        "  link = link.strip('\\n')\n",
        "  data = []\n",
        "\n",
        "  response = requests.get(link)\n",
        "\n",
        "  soup = BeautifulSoup(response.content, 'html.parser')\n",
        "\n",
        "  #題名\n",
        "  head = soup.find('h1').text\n",
        "\n",
        "  #本文\n",
        "  main_text = soup.find('div', id=\"contents-in\")\n",
        "  main_text = main_text.text\n",
        "\n",
        "  #データの格納\n",
        "  return([head, main_text, link])"
      ],
      "metadata": {
        "id": "X2LcJeHz4tHi"
      },
      "execution_count": 17,
      "outputs": []
    },
    {
      "cell_type": "code",
      "source": [
        "#国立\n",
        "SK_5('https://www.city.kunitachi.tokyo.jp/bunka/event/2/8222.html')"
      ],
      "metadata": {
        "id": "qPg2VBD0FWen"
      },
      "execution_count": null,
      "outputs": []
    },
    {
      "cell_type": "code",
      "source": [
        "SK_5('https://www.city.kunitachi.tokyo.jp/shisei/jinji/2/2/9599.html')"
      ],
      "metadata": {
        "id": "PaiUUC6b83UH"
      },
      "execution_count": null,
      "outputs": []
    },
    {
      "cell_type": "code",
      "source": [
        "columns_names=['題名','本文','リンク']\n",
        "list_df = pd.DataFrame(columns=['題名','本文','リンク'])\n",
        "data = []\n",
        "\n",
        "f = open('url_list_kunitachi.txt','r')\n",
        "for i in f:\n",
        "  try:\n",
        "    data.append(SK_5(i))\n",
        "  except AttributeError:\n",
        "    print('Loss Data')\n",
        "\n",
        "tmp_se = pd.DataFrame(data, columns=columns_names)\n",
        "\n",
        "list_df = list_df.append(tmp_se)\n",
        "list_df.to_csv('kunitachi.txt', mode = 'w', encoding = 'utf-8')"
      ],
      "metadata": {
        "id": "-aBTVnYKZ_Hm"
      },
      "execution_count": null,
      "outputs": []
    },
    {
      "cell_type": "markdown",
      "source": [
        "tachikawa 3"
      ],
      "metadata": {
        "id": "vbTlxOAyaZi8"
      }
    },
    {
      "cell_type": "markdown",
      "source": [
        "# 正規表現を使って本文の無駄を消す"
      ],
      "metadata": {
        "id": "Te3W0Pn0_yjL"
      }
    },
    {
      "cell_type": "markdown",
      "source": [
        "目標メモ\n",
        "\n",
        "お問い合わせが共通していると思うのでそこから下はいらない"
      ],
      "metadata": {
        "id": "xiHFdeq4GEvX"
      }
    },
    {
      "cell_type": "code",
      "source": [
        "w = open('/content/【11月2日・12月7日】支援者向けスキルアップ講座「気になるこどもたちの発達的理解と支援」.txt')\n",
        "for i in w:\n",
        "  print(i)"
      ],
      "metadata": {
        "colab": {
          "base_uri": "https://localhost:8080/"
        },
        "id": "3hRX429A_y7h",
        "outputId": "9cae47b1-02ca-4515-b23d-9adf01c3e8ad"
      },
      "execution_count": 4,
      "outputs": [
        {
          "output_type": "stream",
          "name": "stdout",
          "text": [
            ",題名,本文,リンク\n",
            "\n",
            "0,【11月2日・12月7日】支援者向けスキルアップ講座「気になるこどもたちの発達的理解と支援」,\"\n",
            "\n",
            "\n",
            "\n",
            "【11月2日・12月7日】支援者向けスキルアップ講座「気になるこどもたちの発達的理解と支援」\n",
            "\n",
            "\n",
            "\n",
            "\n",
            "\n",
            "\n",
            "\n",
            "\n",
            "\n",
            "\n",
            "\n",
            "\n",
            "\n",
            "更新日：2023年10月5日\n",
            "\n",
            "障害児の支援に携わる保育士や施設職員が、障害特性や支援方法を学び、地域における障害のある児童保護者に対する支援の充実につなげるため、講座等を実施しています。\n",
            "\n",
            "気になるこどもたちの発達的理解と支援～気になる姿に向き合うために私たち支援者ができること～テーマ「ADHDの特徴を持つ子どもの発達支援を考える」（2回連続講座）日時第1回目：令和5年11月2日（木曜）　子どものアセスメントと行動の背景の理解第2回目：令和5年12月7日（木曜）　発達課題の整理から具体的な対応を見つけるまで各日午後6時15分から午後8時まで場所所沢市役所8階大会議室対象保育園・幼稚園・児童発達支援事業所等で障害児の支援に携わる職員講師作業療法士　久米 洋子氏臨床心理士　柳澤 みちる氏定員100人（各園等の人数制限はありません）申し込み方法ちらしのQRコードか下記の参加申し込みから電子申請にてお申込みください申し込み締め切り10月18日(水曜)　　\n",
            "\n",
            "支援者向けスキルアップ講座　参加申し込み（外部サイト）\n",
            "\n",
            "スキルアップ講座ちらし（PDF：863KB）\n",
            "\n",
            "松原学園児童福祉法に基づく児童発達支援センターとして運営しています。\n",
            "\n",
            "松原学園\n",
            "\n",
            "\n",
            "\n",
            "\n",
            "\n",
            "PDF形式のファイルを開くには、Adobe Acrobat Reader DC（旧Adobe Reader）が必要です。\n",
            "\n",
            "お持ちでない方は、Adobe社から無償でダウンロードできます。\n",
            "\n",
            "Adobe Acrobat Reader DCのダウンロードへ\n",
            "\n",
            "\n",
            "\n",
            "\n",
            "\n",
            "お問い合わせ\n",
            "\n",
            "所沢市　こども未来部　松原学園\n",
            "\n",
            "住所：〒359-0002 所沢市中富1535番地の1\n",
            "\n",
            "電話：04-2990-3488\n",
            "\n",
            "FAX：04-2943-2322\n",
            "\n",
            "b29903488@city.tokorozawa.lg.jp\n",
            "\n",
            "\n",
            "\n",
            "\n",
            "\n",
            "\n",
            "\n",
            "\n",
            "\n",
            "この情報はお役に立ちましたか？\n",
            "\n",
            "より良いホームページとするために、みなさまのご意見をお聞かせください。\n",
            "\n",
            "\n",
            "\n",
            "\n",
            "\n",
            "質問：このページの情報は役に立ちましたか？\n",
            "\n",
            "評価：\n",
            "\n",
            "役に立った\n",
            "\n",
            "どちらともいえない\n",
            "\n",
            "役に立たなかった\n",
            "\n",
            "\n",
            "\n",
            "\n",
            "\n",
            "\n",
            "\n",
            "質問：このページの情報は見つけやすかったですか？\n",
            "\n",
            "評価：\n",
            "\n",
            "見つけやすかった\n",
            "\n",
            "どちらともいえない\n",
            "\n",
            "見つけにくかった\n",
            "\n",
            "\n",
            "\n",
            "\n",
            "\n",
            "\n",
            "\n",
            "\n",
            "\n",
            "\n",
            "\n",
            "\n",
            "\n",
            "\n",
            "\n",
            "\n",
            "\n",
            "\n",
            "\n",
            "\n",
            "\n",
            "\n",
            "\n",
            "\n",
            "\n",
            "\n",
            "\n",
            "\n",
            "\n",
            "\",https://www.city.tokorozawa.saitama.jp/kosodatekyouiku/syougaijishien/matubara_skillup.html\n",
            "\n"
          ]
        }
      ]
    },
    {
      "cell_type": "code",
      "source": [
        "w = open('/content/【11月2日・12月7日】支援者向けスキルアップ講座「気になるこどもたちの発達的理解と支援」.txt')\n",
        "for I in w:\n",
        "  i = I.strip('\\n')\n",
        "print(i)"
      ],
      "metadata": {
        "colab": {
          "base_uri": "https://localhost:8080/"
        },
        "id": "74IugBvTNsHs",
        "outputId": "46f344c6-88c4-4a88-87ac-99a02a8a4536"
      },
      "execution_count": 92,
      "outputs": [
        {
          "output_type": "stream",
          "name": "stdout",
          "text": [
            "\",https://www.city.tokorozawa.saitama.jp/kosodatekyouiku/syougaijishien/matubara_skillup.html\n"
          ]
        }
      ]
    },
    {
      "cell_type": "code",
      "source": [
        "w = open('/content/【11月2日・12月7日】支援者向けスキルアップ講座「気になるこどもたちの発達的理解と支援」.txt')\n",
        "for i in w:\n",
        "  i = i.strip().split()\n",
        "\n",
        "  lines = []\n",
        "  for line in i:\n",
        "    #print(len(line))\n",
        "\n",
        "    if line == 'お問い合わせ':\n",
        "      #print('break')\n",
        "      break\n",
        "    else:\n",
        "      lines.append(line)\n",
        "      #print(0)\n",
        "      print(line)"
      ],
      "metadata": {
        "colab": {
          "base_uri": "https://localhost:8080/"
        },
        "id": "grV3ppIpGEck",
        "outputId": "fe461a32-6e02-4d20-ea75-8c18961048b9"
      },
      "execution_count": 96,
      "outputs": [
        {
          "output_type": "stream",
          "name": "stdout",
          "text": [
            ",題名,本文,リンク\n",
            "0,【11月2日・12月7日】支援者向けスキルアップ講座「気になるこどもたちの発達的理解と支援」,\"\n",
            "【11月2日・12月7日】支援者向けスキルアップ講座「気になるこどもたちの発達的理解と支援」\n",
            "更新日：2023年10月5日\n",
            "障害児の支援に携わる保育士や施設職員が、障害特性や支援方法を学び、地域における障害のある児童保護者に対する支援の充実につなげるため、講座等を実施しています。\n",
            "気になるこどもたちの発達的理解と支援～気になる姿に向き合うために私たち支援者ができること～テーマ「ADHDの特徴を持つ子どもの発達支援を考える」（2回連続講座）日時第1回目：令和5年11月2日（木曜）\n",
            "子どものアセスメントと行動の背景の理解第2回目：令和5年12月7日（木曜）\n",
            "発達課題の整理から具体的な対応を見つけるまで各日午後6時15分から午後8時まで場所所沢市役所8階大会議室対象保育園・幼稚園・児童発達支援事業所等で障害児の支援に携わる職員講師作業療法士\n",
            "久米\n",
            "洋子氏臨床心理士\n",
            "柳澤\n",
            "みちる氏定員100人（各園等の人数制限はありません）申し込み方法ちらしのQRコードか下記の参加申し込みから電子申請にてお申込みください申し込み締め切り10月18日(水曜)\n",
            "支援者向けスキルアップ講座\n",
            "参加申し込み（外部サイト）\n",
            "スキルアップ講座ちらし（PDF：863KB）\n",
            "松原学園児童福祉法に基づく児童発達支援センターとして運営しています。\n",
            "松原学園\n",
            "PDF形式のファイルを開くには、Adobe\n",
            "Acrobat\n",
            "Reader\n",
            "DC（旧Adobe\n",
            "Reader）が必要です。\n",
            "お持ちでない方は、Adobe社から無償でダウンロードできます。\n",
            "Adobe\n",
            "Acrobat\n",
            "Reader\n",
            "DCのダウンロードへ\n",
            "所沢市\n",
            "こども未来部\n",
            "松原学園\n",
            "住所：〒359-0002\n",
            "所沢市中富1535番地の1\n",
            "電話：04-2990-3488\n",
            "FAX：04-2943-2322\n",
            "b29903488@city.tokorozawa.lg.jp\n",
            "この情報はお役に立ちましたか？\n",
            "より良いホームページとするために、みなさまのご意見をお聞かせください。\n",
            "質問：このページの情報は役に立ちましたか？\n",
            "評価：\n",
            "役に立った\n",
            "どちらともいえない\n",
            "役に立たなかった\n",
            "質問：このページの情報は見つけやすかったですか？\n",
            "評価：\n",
            "見つけやすかった\n",
            "どちらともいえない\n",
            "見つけにくかった\n",
            "\",https://www.city.tokorozawa.saitama.jp/kosodatekyouiku/syougaijishien/matubara_skillup.html\n"
          ]
        }
      ]
    }
  ]
}